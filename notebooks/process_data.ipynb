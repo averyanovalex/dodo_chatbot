{
 "cells": [
  {
   "cell_type": "code",
   "execution_count": 8,
   "metadata": {},
   "outputs": [
    {
     "data": {
      "text/html": [
       "<div>\n",
       "<style scoped>\n",
       "    .dataframe tbody tr th:only-of-type {\n",
       "        vertical-align: middle;\n",
       "    }\n",
       "\n",
       "    .dataframe tbody tr th {\n",
       "        vertical-align: top;\n",
       "    }\n",
       "\n",
       "    .dataframe thead th {\n",
       "        text-align: right;\n",
       "    }\n",
       "</style>\n",
       "<table border=\"1\" class=\"dataframe\">\n",
       "  <thead>\n",
       "    <tr style=\"text-align: right;\">\n",
       "      <th></th>\n",
       "      <th>Title</th>\n",
       "      <th>Title_URL</th>\n",
       "      <th>Image</th>\n",
       "      <th>Описание</th>\n",
       "      <th>Price</th>\n",
       "    </tr>\n",
       "  </thead>\n",
       "  <tbody>\n",
       "    <tr>\n",
       "      <th>0</th>\n",
       "      <td>Бефстроганов</td>\n",
       "      <td>https://dodopizza.ru/moscow/product/befstroganov</td>\n",
       "      <td>NaN</td>\n",
       "      <td>Бефстроганов\\nПряная говядина, шампиньоны, аро...</td>\n",
       "      <td>от 549 ₽</td>\n",
       "    </tr>\n",
       "    <tr>\n",
       "      <th>1</th>\n",
       "      <td>Мясная с аджикой 🌶🌶</td>\n",
       "      <td>https://dodopizza.ru/moscow/product/adjika-pizza</td>\n",
       "      <td>NaN</td>\n",
       "      <td>Мясная с аджикой 🌶🌶\\nБаварские колбаски, остры...</td>\n",
       "      <td>от 549 ₽</td>\n",
       "    </tr>\n",
       "  </tbody>\n",
       "</table>\n",
       "</div>"
      ],
      "text/plain": [
       "                 Title                                         Title_URL  \\\n",
       "0         Бефстроганов  https://dodopizza.ru/moscow/product/befstroganov   \n",
       "1  Мясная с аджикой 🌶🌶  https://dodopizza.ru/moscow/product/adjika-pizza   \n",
       "\n",
       "  Image                                           Описание     Price  \n",
       "0   NaN  Бефстроганов\\nПряная говядина, шампиньоны, аро...  от 549 ₽  \n",
       "1   NaN  Мясная с аджикой 🌶🌶\\nБаварские колбаски, остры...  от 549 ₽  "
      ]
     },
     "execution_count": 8,
     "metadata": {},
     "output_type": "execute_result"
    }
   ],
   "source": [
    "import pandas as pd\n",
    "\n",
    "df = pd.read_excel('../data/raw/dodo_items.xlsx')\n",
    "df.head(2)"
   ]
  },
  {
   "cell_type": "code",
   "execution_count": 14,
   "metadata": {},
   "outputs": [],
   "source": [
    "path = '../data/txt_ru/'\n",
    "for index, row in df.iterrows():\n",
    "    filename = f\"{path}/{row['Title'].replace(' ', '_')}.txt\"\n",
    "    \n",
    "    content = f\"Title:\\n{row['Title']}\\n\\n\"\n",
    "    content += f\"Description:\\n{row['Описание']}\\n\\n\"\n",
    "    content += f\"Price:\\n{row['Price']}\"\n",
    "    \n",
    "    with open(filename, 'w', encoding='utf-8') as file:\n",
    "        file.write(content)\n"
   ]
  },
  {
   "cell_type": "code",
   "execution_count": null,
   "metadata": {},
   "outputs": [],
   "source": []
  }
 ],
 "metadata": {
  "kernelspec": {
   "display_name": "Python 3",
   "language": "python",
   "name": "python3"
  },
  "language_info": {
   "codemirror_mode": {
    "name": "ipython",
    "version": 3
   },
   "file_extension": ".py",
   "mimetype": "text/x-python",
   "name": "python",
   "nbconvert_exporter": "python",
   "pygments_lexer": "ipython3",
   "version": "3.12.4"
  }
 },
 "nbformat": 4,
 "nbformat_minor": 2
}
